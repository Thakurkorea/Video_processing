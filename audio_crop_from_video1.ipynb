{
  "nbformat": 4,
  "nbformat_minor": 0,
  "metadata": {
    "colab": {
      "provenance": []
    },
    "kernelspec": {
      "name": "python3",
      "display_name": "Python 3"
    },
    "language_info": {
      "name": "python"
    },
    "accelerator": "GPU",
    "gpuClass": "standard"
  },
  "cells": [
    {
      "cell_type": "code",
      "source": [
        "# pip install moviepy"
      ],
      "metadata": {
        "id": "-ASnPswDX00H"
      },
      "execution_count": 3,
      "outputs": []
    },
    {
      "cell_type": "code",
      "source": [
        "from google.colab import drive\n",
        "\n",
        "# mount Google Drive to access files\n",
        "drive.mount('/content/drive')"
      ],
      "metadata": {
        "colab": {
          "base_uri": "https://localhost:8080/"
        },
        "id": "5uoLK092c2Iu",
        "outputId": "e4473f02-beee-42fa-bb99-1abd599831c3"
      },
      "execution_count": 11,
      "outputs": [
        {
          "output_type": "stream",
          "name": "stdout",
          "text": [
            "Drive already mounted at /content/drive; to attempt to forcibly remount, call drive.mount(\"/content/drive\", force_remount=True).\n"
          ]
        }
      ]
    },
    {
      "cell_type": "code",
      "source": [
        "cd /content"
      ],
      "metadata": {
        "colab": {
          "base_uri": "https://localhost:8080/"
        },
        "id": "FJpYKAvHeNA3",
        "outputId": "67018825-170b-4d2c-806a-bab533ca38e3"
      },
      "execution_count": 12,
      "outputs": [
        {
          "output_type": "stream",
          "name": "stdout",
          "text": [
            "/content\n"
          ]
        }
      ]
    },
    {
      "cell_type": "code",
      "execution_count": 13,
      "metadata": {
        "id": "47jbcsGtXKYG"
      },
      "outputs": [],
      "source": [
        "from moviepy.editor import*\n",
        "\n",
        "# set input and output file names\n",
        "input_file = '/content/Sankhadhun.mp4'\n",
        "output_file='replicated_video.mp4'\n",
        "image_file = 'Sankha_conch_shell.jpg'\n",
        "# Create a list of three copies of the video\n",
        "\n",
        "original_video = VideoFileClip(input_file)\n",
        "\n",
        "videos = [original_video] * 50\n",
        "\n",
        "# Concatenate the videos to create a new video clip\n",
        "new_video = concatenate_videoclips(videos)\n",
        "\n",
        "# load the static image file\n",
        "image = ImageClip(image_file).set_duration(new_video.duration)\n",
        "\n",
        "# combine the video clip and image clip\n",
        "final_clip = CompositeVideoClip([new_video, image])\n",
        "\n"
      ]
    },
    {
      "cell_type": "code",
      "source": [
        "cd /content/drive/MyDrive/Videos_music"
      ],
      "metadata": {
        "colab": {
          "base_uri": "https://localhost:8080/"
        },
        "id": "cJEzrs7WbS62",
        "outputId": "263efc74-c463-40eb-a9bb-ae391a420201"
      },
      "execution_count": 14,
      "outputs": [
        {
          "output_type": "stream",
          "name": "stdout",
          "text": [
            "/content/drive/MyDrive/Videos_music\n"
          ]
        }
      ]
    },
    {
      "cell_type": "code",
      "source": [
        "# save the final clip to a file\n",
        "final_clip.write_videofile(output_file,verbose=False)"
      ],
      "metadata": {
        "colab": {
          "base_uri": "https://localhost:8080/"
        },
        "id": "0Y00f1YobySf",
        "outputId": "34806b54-b5ef-4ef0-e588-6080dbf24d51"
      },
      "execution_count": null,
      "outputs": [
        {
          "output_type": "stream",
          "name": "stdout",
          "text": [
            "Moviepy - Building video replicated_video.mp4.\n",
            "MoviePy - Writing audio in replicated_videoTEMP_MPY_wvf_snd.mp3\n"
          ]
        },
        {
          "output_type": "stream",
          "name": "stderr",
          "text": [
            "chunk:   5%|▌         | 107726/1983001 [03:02<1:15:13, 415.50it/s, now=None]"
          ]
        }
      ]
    },
    {
      "cell_type": "code",
      "source": [
        "pwd"
      ],
      "metadata": {
        "colab": {
          "base_uri": "https://localhost:8080/",
          "height": 36
        },
        "id": "OdzSOXQHeSqq",
        "outputId": "cd523c45-c993-4b58-beb7-cb165d0f7d6a"
      },
      "execution_count": 10,
      "outputs": [
        {
          "output_type": "execute_result",
          "data": {
            "text/plain": [
              "'/content'"
            ],
            "application/vnd.google.colaboratory.intrinsic+json": {
              "type": "string"
            }
          },
          "metadata": {},
          "execution_count": 10
        }
      ]
    }
  ]
}