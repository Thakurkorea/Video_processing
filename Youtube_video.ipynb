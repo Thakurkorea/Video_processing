{
  "nbformat": 4,
  "nbformat_minor": 0,
  "metadata": {
    "colab": {
      "provenance": []
    },
    "kernelspec": {
      "name": "python3",
      "display_name": "Python 3"
    },
    "language_info": {
      "name": "python"
    }
  },
  "cells": [
    {
      "cell_type": "code",
      "source": [
        "import requests\n",
        "from bs4 import BeautifulSoup\n",
        "\n",
        "# Function to extract YouTube video links from a webpage\n",
        "def get_youtube_links(url):\n",
        "    try:\n",
        "        # Send a GET request to the URL\n",
        "        response = requests.get(url)\n",
        "\n",
        "        # Check if the request was successful (status code 200)\n",
        "        if response.status_code == 200:\n",
        "            # Parse the HTML content of the webpage\n",
        "            soup = BeautifulSoup(response.text, 'html.parser')\n",
        "\n",
        "            # Find all anchor tags (links)\n",
        "            links = soup.find_all('a')\n",
        "\n",
        "            # Iterate through the links to find YouTube video links\n",
        "            youtube_links = []\n",
        "            for link in links:\n",
        "                href = link.get('href')\n",
        "                if href and 'youtube.com' in href:\n",
        "                    youtube_links.append(href)\n",
        "\n",
        "            return youtube_links\n",
        "        else:\n",
        "            print(\"Failed to retrieve the webpage. Status code:\", response.status_code)\n",
        "            return []\n",
        "    except requests.RequestException as e:\n",
        "        print(\"Error:\", e)\n",
        "        return []\n",
        "\n",
        "# URL of the webpage you want to scrape for YouTube video links\n",
        "webpage_url = 'https://www.youtube.com/hashtag/shorts'  # Replace with the URL of the webpage\n",
        "\n",
        "# Call the function to get YouTube video links\n",
        "youtube_links = get_youtube_links(webpage_url)\n",
        "\n",
        "# Display the found YouTube video links\n",
        "for link in youtube_links:\n",
        "    print(link)\n"
      ],
      "metadata": {
        "colab": {
          "base_uri": "https://localhost:8080/"
        },
        "id": "nahP4AnI2vzR",
        "outputId": "59e3f88d-0a5b-4745-a579-210b4599b691"
      },
      "execution_count": null,
      "outputs": [
        {
          "output_type": "stream",
          "name": "stdout",
          "text": [
            "https://www.youtube.com/about/\n",
            "https://www.youtube.com/about/press/\n",
            "https://www.youtube.com/about/copyright/\n",
            "https://www.youtube.com/creators/\n",
            "https://www.youtube.com/ads/\n",
            "https://www.youtube.com/about/policies/\n",
            "https://www.youtube.com/howyoutubeworks?utm_campaign=ytgen&utm_source=ythp&utm_medium=LeftNav&utm_content=txt&u=https%3A%2F%2Fwww.youtube.com%2Fhowyoutubeworks%3Futm_source%3Dythp%26utm_medium%3DLeftNav%26utm_campaign%3Dytgen\n",
            "https://tv.youtube.com/learn/nflsundayticket\n"
          ]
        }
      ]
    },
    {
      "cell_type": "code",
      "source": [
        "import requests\n",
        "import json\n",
        "from bs4 import BeautifulSoup\n",
        "\n",
        "# Send a GET request to the URL\n",
        "url = 'https://www.youtube.com/hashtag/shorts'\n",
        "response = requests.get(url)\n",
        "\n",
        "# Check if the request was successful (status code 200)\n",
        "if response.status_code == 200:\n",
        "    # Parse the HTML content of the webpage\n",
        "    soup = BeautifulSoup(response.text, 'html.parser')\n",
        "\n",
        "    # Find all script tags\n",
        "    script_tags = soup.find_all('script')\n",
        "\n",
        "    # Initialize an empty list to store video IDs\n",
        "    video_ids = []\n",
        "\n",
        "    # Iterate through script tags to find and extract video IDs\n",
        "    for script in script_tags:\n",
        "        if script.string:\n",
        "            content = script.string\n",
        "\n",
        "            # Look for the 'videoId' key within the content\n",
        "            if '\"videoId\":\"' in content:\n",
        "                # Split content based on 'videoId' occurrences and extract video IDs\n",
        "                parts = content.split('\"videoId\":\"')\n",
        "                for part in parts[1:]:\n",
        "                    video_id = part.split('\"', 1)[0]\n",
        "                    video_ids.append(video_id)\n",
        "\n",
        "    # Print or process the extracted video IDs\n",
        "    if video_ids:\n",
        "        print(\"Extracted Video IDs:\")\n",
        "        print(len(video_ids))\n",
        "        for video_id in video_ids:\n",
        "            print(video_id)\n",
        "\n",
        "    else:\n",
        "        print(\"No video IDs found.\")\n",
        "else:\n",
        "    print(\"Failed to retrieve the webpage. Status code:\", response.status_code)\n"
      ],
      "metadata": {
        "colab": {
          "base_uri": "https://localhost:8080/"
        },
        "id": "5zWgkq093h4g",
        "outputId": "1a414a85-bec0-44ee-b01e-c5122fa3d3b2"
      },
      "execution_count": null,
      "outputs": [
        {
          "output_type": "stream",
          "name": "stdout",
          "text": [
            "Extracted Video IDs:\n",
            "144\n",
            "3K_3T9OpzeQ\n",
            "3K_3T9OpzeQ\n",
            "3K_3T9OpzeQ\n",
            "3K_3T9OpzeQ\n",
            "J3l2hPVe0BU\n",
            "J3l2hPVe0BU\n",
            "J3l2hPVe0BU\n",
            "J3l2hPVe0BU\n",
            "tCI_HGaBg5E\n",
            "tCI_HGaBg5E\n",
            "tCI_HGaBg5E\n",
            "tCI_HGaBg5E\n",
            "gyJ8ChsdxTA\n",
            "gyJ8ChsdxTA\n",
            "gyJ8ChsdxTA\n",
            "gyJ8ChsdxTA\n",
            "qXxC0R9CQkI\n",
            "qXxC0R9CQkI\n",
            "qXxC0R9CQkI\n",
            "qXxC0R9CQkI\n",
            "ATx-hlfK9o4\n",
            "ATx-hlfK9o4\n",
            "ATx-hlfK9o4\n",
            "ATx-hlfK9o4\n",
            "hsETQ4j4C8g\n",
            "hsETQ4j4C8g\n",
            "hsETQ4j4C8g\n",
            "hsETQ4j4C8g\n",
            "4GROCTH7FY8\n",
            "4GROCTH7FY8\n",
            "4GROCTH7FY8\n",
            "4GROCTH7FY8\n",
            "E-pR8OccEfY\n",
            "E-pR8OccEfY\n",
            "E-pR8OccEfY\n",
            "E-pR8OccEfY\n",
            "oDhgN-MvAXs\n",
            "oDhgN-MvAXs\n",
            "oDhgN-MvAXs\n",
            "oDhgN-MvAXs\n",
            "9pcGsc2Cz4g\n",
            "9pcGsc2Cz4g\n",
            "9pcGsc2Cz4g\n",
            "9pcGsc2Cz4g\n",
            "B_8zVsOeidk\n",
            "B_8zVsOeidk\n",
            "B_8zVsOeidk\n",
            "B_8zVsOeidk\n",
            "ZjXM5WgPyBk\n",
            "ZjXM5WgPyBk\n",
            "ZjXM5WgPyBk\n",
            "ZjXM5WgPyBk\n",
            "sMlNl6d2NEI\n",
            "sMlNl6d2NEI\n",
            "sMlNl6d2NEI\n",
            "sMlNl6d2NEI\n",
            "V9hyjDObyiI\n",
            "V9hyjDObyiI\n",
            "V9hyjDObyiI\n",
            "V9hyjDObyiI\n",
            "wOvOZvLt77w\n",
            "wOvOZvLt77w\n",
            "wOvOZvLt77w\n",
            "wOvOZvLt77w\n",
            "OQW_mTZMDus\n",
            "OQW_mTZMDus\n",
            "OQW_mTZMDus\n",
            "OQW_mTZMDus\n",
            "KuhV0WJ-uy0\n",
            "KuhV0WJ-uy0\n",
            "KuhV0WJ-uy0\n",
            "KuhV0WJ-uy0\n",
            "3yvJgRysi28\n",
            "3yvJgRysi28\n",
            "3yvJgRysi28\n",
            "3yvJgRysi28\n",
            "Fj_SwywcnYs\n",
            "Fj_SwywcnYs\n",
            "Fj_SwywcnYs\n",
            "Fj_SwywcnYs\n",
            "n_6YPvWcFLA\n",
            "n_6YPvWcFLA\n",
            "n_6YPvWcFLA\n",
            "n_6YPvWcFLA\n",
            "0G9aSO9Dvxc\n",
            "0G9aSO9Dvxc\n",
            "0G9aSO9Dvxc\n",
            "0G9aSO9Dvxc\n",
            "sDlZoaCEZ6w\n",
            "sDlZoaCEZ6w\n",
            "sDlZoaCEZ6w\n",
            "sDlZoaCEZ6w\n",
            "BT3NwIDp4Vs\n",
            "BT3NwIDp4Vs\n",
            "BT3NwIDp4Vs\n",
            "BT3NwIDp4Vs\n",
            "G7OkwhNRwjQ\n",
            "G7OkwhNRwjQ\n",
            "G7OkwhNRwjQ\n",
            "G7OkwhNRwjQ\n",
            "t7QrZo6jynY\n",
            "t7QrZo6jynY\n",
            "t7QrZo6jynY\n",
            "t7QrZo6jynY\n",
            "C3lLwQjrLXg\n",
            "C3lLwQjrLXg\n",
            "C3lLwQjrLXg\n",
            "C3lLwQjrLXg\n",
            "H9yg-c4i_Fg\n",
            "H9yg-c4i_Fg\n",
            "H9yg-c4i_Fg\n",
            "H9yg-c4i_Fg\n",
            "vzV6cCXEfYU\n",
            "vzV6cCXEfYU\n",
            "vzV6cCXEfYU\n",
            "vzV6cCXEfYU\n",
            "7dUY12c4Xwo\n",
            "7dUY12c4Xwo\n",
            "7dUY12c4Xwo\n",
            "7dUY12c4Xwo\n",
            "bhghAm_biGU\n",
            "bhghAm_biGU\n",
            "bhghAm_biGU\n",
            "bhghAm_biGU\n",
            "hWixdPcOsrs\n",
            "hWixdPcOsrs\n",
            "hWixdPcOsrs\n",
            "hWixdPcOsrs\n",
            "U3mH4vrhnq0\n",
            "U3mH4vrhnq0\n",
            "U3mH4vrhnq0\n",
            "U3mH4vrhnq0\n",
            "QacjCYPRSuM\n",
            "QacjCYPRSuM\n",
            "QacjCYPRSuM\n",
            "QacjCYPRSuM\n",
            "zeOkywDPBfQ\n",
            "zeOkywDPBfQ\n",
            "zeOkywDPBfQ\n",
            "zeOkywDPBfQ\n",
            "EqzcarEV66s\n",
            "EqzcarEV66s\n",
            "EqzcarEV66s\n",
            "EqzcarEV66s\n"
          ]
        }
      ]
    },
    {
      "cell_type": "code",
      "source": [
        "BeautifulSoup(response.text,'html.parser')\n"
      ],
      "metadata": {
        "id": "zTILAFoS-dbh"
      },
      "execution_count": null,
      "outputs": []
    },
    {
      "cell_type": "markdown",
      "source": [
        "## donload using selenium"
      ],
      "metadata": {
        "id": "4kppLlGDNKeO"
      }
    },
    {
      "cell_type": "code",
      "source": [
        "# !pip install selenium\n",
        "# !pip install chromedriver-autoinstaller\n",
        "# !which google-chrome\n",
        "!pip install selenium\n",
        "!apt-get update\n",
        "!apt install chromium-chromedriver\n",
        "!cp /usr/lib/chromium-browser/chromedriver /usr/bin"
      ],
      "metadata": {
        "id": "26yZJm5RMNEU"
      },
      "execution_count": null,
      "outputs": []
    },
    {
      "cell_type": "code",
      "source": [
        "from selenium import webdriver\n",
        "\n",
        "# Set Chrome options\n",
        "chrome_options = webdriver.ChromeOptions()\n",
        "chrome_options.add_argument('--headless')\n",
        "chrome_options.add_argument('--no-sandbox')\n",
        "chrome_options.add_argument('--disable-dev-shm-usage')\n",
        "\n",
        "# Create Chrome WebDriver with options\n",
        "driver = webdriver.Chrome(options=chrome_options)\n"
      ],
      "metadata": {
        "id": "ErBlcD35ONP5"
      },
      "execution_count": null,
      "outputs": []
    },
    {
      "cell_type": "code",
      "source": [
        "from selenium import webdriver\n",
        "import time\n",
        "\n",
        "# Load the URL\n",
        "url = 'https://www.youtube.com/hashtag/shorts'\n",
        "driver.get(url)\n",
        "\n",
        "# Find elements using XPath\n",
        "element_list = driver.find_elements('xpath', '//*[@id=\"video-title-link\"]')  # Replace with your XPath\n",
        "\n",
        "# Process the found elements\n",
        "for element in element_list:\n",
        "    print(element.text)  # Example: Print the text of each element\n",
        "\n",
        "# Close the browser window\n",
        "driver.quit()"
      ],
      "metadata": {
        "id": "3cpui3oqH89I"
      },
      "execution_count": null,
      "outputs": []
    },
    {
      "cell_type": "code",
      "source": [
        "from selenium import webdriver\n",
        "import time\n",
        "# Set Chrome options\n",
        "chrome_options = webdriver.ChromeOptions()\n",
        "chrome_options.add_argument('--headless')\n",
        "chrome_options.add_argument('--no-sandbox')\n",
        "chrome_options.add_argument('--disable-dev-shm-usage')\n",
        "\n",
        "# Create Chrome WebDriver with options\n",
        "driver = webdriver.Chrome(options=chrome_options)\n",
        "url = 'https://www.youtube.com/hashtag/shorts'\n",
        "driver.get(url)\n",
        "\n",
        "# Scroll down the page multiple times to load more content\n",
        "scrolls = 10  # Number of times to scroll\n",
        "for _ in range(scrolls):\n",
        "    # Scroll down to the bottom of the page\n",
        "    driver.execute_script(\"window.scrollTo(0, document.body.scrollHeight);\")\n",
        "    # Wait for some time for the content to load\n",
        "    time.sleep(10)  # Adjust the time based on the page loading speed\n",
        "\n",
        "# After scrolling, extract video IDs\n",
        "video_ids = []\n",
        "video_elements = driver.find_elements('xpath', '//*[@id=\"video-title-link\"]')\n",
        "for element in video_elements:\n",
        "    # Extract video ID from href attribute or other relevant attribute\n",
        "    video_id = element.get_attribute(\"href\")  # Extract video ID from href\n",
        "    # video_id = element.get_attribute(\"href\").split(\"/\")[-1]  # Extract video ID from href\n",
        "\n",
        "    video_ids.append(video_id)\n",
        "\n",
        "# Print the extracted video IDs\n",
        "print(\"Extracted Video IDs:\")\n",
        "print(len(video_ids))\n",
        "for video_id in video_ids:\n",
        "    print(video_id)\n",
        "\n",
        "# Close the browser window\n",
        "driver.quit()\n"
      ],
      "metadata": {
        "colab": {
          "base_uri": "https://localhost:8080/"
        },
        "id": "cXdZozhTR0H_",
        "outputId": "ae254778-ce89-4ad4-9e2c-1664e0e991a7"
      },
      "execution_count": 19,
      "outputs": [
        {
          "output_type": "stream",
          "name": "stdout",
          "text": [
            "Extracted Video IDs:\n",
            "36\n",
            "https://www.youtube.com/shorts/3K_3T9OpzeQ\n",
            "https://www.youtube.com/shorts/J3l2hPVe0BU\n",
            "https://www.youtube.com/shorts/tCI_HGaBg5E\n",
            "https://www.youtube.com/shorts/qXxC0R9CQkI\n",
            "https://www.youtube.com/shorts/gyJ8ChsdxTA\n",
            "https://www.youtube.com/shorts/ATx-hlfK9o4\n",
            "https://www.youtube.com/shorts/E-pR8OccEfY\n",
            "https://www.youtube.com/shorts/YQibgv2NvUI\n",
            "https://www.youtube.com/shorts/hsETQ4j4C8g\n",
            "https://www.youtube.com/shorts/9pcGsc2Cz4g\n",
            "https://www.youtube.com/shorts/4GROCTH7FY8\n",
            "https://www.youtube.com/shorts/sMlNl6d2NEI\n",
            "https://www.youtube.com/shorts/oDhgN-MvAXs\n",
            "https://www.youtube.com/shorts/B_8zVsOeidk\n",
            "https://www.youtube.com/shorts/ZjXM5WgPyBk\n",
            "https://www.youtube.com/shorts/Fj_SwywcnYs\n",
            "https://www.youtube.com/shorts/G7OkwhNRwjQ\n",
            "https://www.youtube.com/shorts/n-vcMajlca4\n",
            "https://www.youtube.com/shorts/OQW_mTZMDus\n",
            "https://www.youtube.com/shorts/3yvJgRysi28\n",
            "https://www.youtube.com/shorts/H9yg-c4i_Fg\n",
            "https://www.youtube.com/shorts/KuhV0WJ-uy0\n",
            "https://www.youtube.com/shorts/C3lLwQjrLXg\n",
            "https://www.youtube.com/shorts/n_6YPvWcFLA\n",
            "https://www.youtube.com/shorts/0G9aSO9Dvxc\n",
            "https://www.youtube.com/shorts/P3QdLPqz5E0\n",
            "https://www.youtube.com/shorts/sDlZoaCEZ6w\n",
            "https://www.youtube.com/shorts/t7QrZo6jynY\n",
            "https://www.youtube.com/shorts/sgWJEH5ZW1E\n",
            "https://www.youtube.com/shorts/7dUY12c4Xwo\n",
            "https://www.youtube.com/shorts/hWixdPcOsrs\n",
            "https://www.youtube.com/shorts/bhghAm_biGU\n",
            "https://www.youtube.com/shorts/QacjCYPRSuM\n",
            "https://www.youtube.com/shorts/zeOkywDPBfQ\n",
            "https://www.youtube.com/shorts/J5bjyf9302g\n",
            "https://www.youtube.com/shorts/tFKdZPvyOc8\n"
          ]
        }
      ]
    },
    {
      "cell_type": "code",
      "source": [
        "from bs4 import BeautifulSoup\n",
        "\n",
        "# Sample raw HTML content containing video links\n",
        "raw_html = '''\n",
        "<!DOCTYPE html>\n",
        "<html>\n",
        "<head>\n",
        "    <title>Sample HTML</title>\n",
        "</head>\n",
        "<body>\n",
        "    <a id=\"video-title-link\" class=\"yt-simple-endpoint focus-on-expand style-scope ytd-rich-grid-media\" href=\"/shorts/J3l2hPVe0BU\">\n",
        "        Sample Video Link 1\n",
        "    </a>\n",
        "    <a id=\"video-title-link\" class=\"yt-simple-endpoint focus-on-expand style-scope ytd-rich-grid-media\" href=\"/shorts/ABCD12345\">\n",
        "        Sample Video Link 2\n",
        "    </a>\n",
        "</body>\n",
        "</html>\n",
        "'''\n",
        "\n",
        "# Parse the HTML content\n",
        "soup = BeautifulSoup(raw_html, 'html.parser')\n",
        "\n",
        "# Find all anchor tags <a> with specific id and class attributes\n",
        "video_links = soup.find_all('a', id='video-title-link', class_='yt-simple-endpoint')\n",
        "\n",
        "# Extract href attribute (links) from the found elements\n",
        "extracted_links = [link.get('href') for link in video_links]\n",
        "\n",
        "# Display the extracted video links\n",
        "for link in extracted_links:\n",
        "    print(link)\n"
      ],
      "metadata": {
        "colab": {
          "base_uri": "https://localhost:8080/"
        },
        "id": "SdscG3gk5tdc",
        "outputId": "35f4fec8-d941-44d8-a819-4a820acdafc0"
      },
      "execution_count": null,
      "outputs": [
        {
          "output_type": "stream",
          "name": "stdout",
          "text": [
            "/shorts/J3l2hPVe0BU\n",
            "/shorts/ABCD12345\n"
          ]
        }
      ]
    },
    {
      "cell_type": "code",
      "execution_count": 9,
      "metadata": {
        "id": "KtnUoSzL2dct",
        "colab": {
          "base_uri": "https://localhost:8080/"
        },
        "outputId": "a9abdbff-e5a5-43d9-b63d-8ce64d129b9f"
      },
      "outputs": [
        {
          "output_type": "stream",
          "name": "stdout",
          "text": [
            "Installing collected packages: pytube\n",
            "Successfully installed pytube-15.0.0\n"
          ]
        }
      ],
      "source": [
        "!pip install pytube\n",
        "# video_ids"
      ]
    },
    {
      "cell_type": "code",
      "source": [
        "from pytube import YouTube\n",
        "\n",
        "# YouTube video URL\n",
        "video_streams=[]\n",
        "# video_url = 'https://www.youtube.com/shorts/sMlNl6d2NEI'\n",
        "for video_link in video_ids:\n",
        "  video_url=video_link\n",
        "  # Create a YouTube object\n",
        "  yt = YouTube(video_url)\n",
        "\n",
        "  # Get the highest resolution stream available\n",
        "  video_stream = yt.streams.get_highest_resolution()\n",
        "  video_streams.append(video_stream)\n",
        "# Download the video\n",
        "# video_stream.download()\n"
      ],
      "metadata": {
        "id": "NzAbJQK02vDC"
      },
      "execution_count": null,
      "outputs": []
    },
    {
      "cell_type": "code",
      "source": [
        "video_url"
      ],
      "metadata": {
        "colab": {
          "base_uri": "https://localhost:8080/",
          "height": 36
        },
        "id": "Gz1vWCKeR7-T",
        "outputId": "018efedd-00d0-4986-d3f3-debe59de664d"
      },
      "execution_count": 11,
      "outputs": [
        {
          "output_type": "execute_result",
          "data": {
            "text/plain": [
              "'https://www.youtube.com/shorts/gyJ8ChsdxTA'"
            ],
            "application/vnd.google.colaboratory.intrinsic+json": {
              "type": "string"
            }
          },
          "metadata": {},
          "execution_count": 11
        }
      ]
    },
    {
      "cell_type": "code",
      "source": [
        "from pytube import YouTube\n",
        "from pytube.exceptions import AgeRestrictedError\n",
        "\n",
        "# YouTube video URL\n",
        "# video_url = 'https://www.youtube.com/shorts/gyJ8ChsdxTA'\n",
        "for video_link in video_ids:\n",
        "  try:\n",
        "    # Try creating a YouTube object\n",
        "    yt = YouTube(video_link)\n",
        "\n",
        "    # Get the highest resolution stream available\n",
        "    video_stream = yt.streams.get_highest_resolution()\n",
        "\n",
        "    # Download the video\n",
        "    video_stream.download(output_path='your_download_path')\n",
        "    video_stream.download()\n",
        "\n",
        "  except AgeRestrictedError:\n",
        "    print(f\"The video '{video_url}' is age-restricted. You need to log in to access it.\")\n",
        "  except Exception as e:\n",
        "    print(f\"An error occurred: {e}\")\n"
      ],
      "metadata": {
        "id": "6Aw5UxP_SCv8"
      },
      "execution_count": null,
      "outputs": []
    },
    {
      "cell_type": "code",
      "source": [
        "#let's merge videos that coontent in certain folders\n",
        "!pip install moviepy"
      ],
      "metadata": {
        "id": "RsClLivpXFuU"
      },
      "execution_count": 28,
      "outputs": []
    },
    {
      "cell_type": "code",
      "source": [
        "from moviepy.editor import VideoFileClip, concatenate_videoclips\n",
        "\n",
        "# Set the input folder containing MP4 files\n",
        "input_folder = '/content/your_download_path'\n",
        "\n",
        "# Get a list of all MP4 files in the input folder\n",
        "input_files = [f for f in os.listdir(input_folder) if f.endswith('.mp4')]\n",
        "\n",
        "# Make sure there are MP4 files in the folder\n",
        "if not input_files:\n",
        "    print(\"No MP4 files found in the input folder.\")\n",
        "    exit()\n",
        "\n",
        "# Sort the input files for proper concatenation order\n",
        "input_files.sort()\n",
        "\n",
        "# Set the output file path\n",
        "output_file = '/content/Shorts.mp4'\n",
        "\n",
        "# Create a list of VideoFileClip objects for each input file\n",
        "video_clips = [VideoFileClip(os.path.join(input_folder, file)) for file in input_files]\n",
        "\n",
        "# Concatenate the video clips\n",
        "final_clip = concatenate_videoclips(video_clips, method=\"compose\")\n",
        "\n",
        "# Write the final merged video to the output file\n",
        "final_clip.write_videofile(output_file, codec='libx264', audio_codec='aac', fps=24)\n"
      ],
      "metadata": {
        "colab": {
          "base_uri": "https://localhost:8080/"
        },
        "id": "QOTMrzGRUgLS",
        "outputId": "8e26a34d-7e66-4a40-b473-dfe770f8bcf0"
      },
      "execution_count": 29,
      "outputs": [
        {
          "output_type": "stream",
          "name": "stdout",
          "text": [
            "Moviepy - Building video /content/Shorts.mp4.\n",
            "MoviePy - Writing audio in ShortsTEMP_MPY_wvf_snd.mp4\n"
          ]
        },
        {
          "output_type": "stream",
          "name": "stderr",
          "text": []
        },
        {
          "output_type": "stream",
          "name": "stdout",
          "text": [
            "MoviePy - Done.\n",
            "Moviepy - Writing video /content/Shorts.mp4\n",
            "\n"
          ]
        },
        {
          "output_type": "stream",
          "name": "stderr",
          "text": [
            "t:  12%|█▏        | 2488/21001 [04:35<43:36,  7.08it/s, now=None]WARNING:py.warnings:/usr/local/lib/python3.10/dist-packages/moviepy/video/io/ffmpeg_reader.py:123: UserWarning: Warning: in file /content/your_download_path/DONT SAY GAY (EXTENDED VERSION) shorts.mp4, 2764800 bytes wanted but 0 bytes read,at frame 1758/1759, at time 58.60/58.61 sec. Using the last valid frame instead.\n",
            "  warnings.warn(\"Warning: in file %s, \"%(self.filename)+\n",
            "\n",
            "t:  27%|██▋       | 5591/21001 [10:15<15:24, 16.67it/s, now=None]WARNING:py.warnings:/usr/local/lib/python3.10/dist-packages/moviepy/video/io/ffmpeg_reader.py:123: UserWarning: Warning: in file /content/your_download_path/Eating Before And After The Military shorts.mp4, 1769472 bytes wanted but 0 bytes read,at frame 465/466, at time 15.50/15.51 sec. Using the last valid frame instead.\n",
            "  warnings.warn(\"Warning: in file %s, \"%(self.filename)+\n",
            "\n",
            "t:  45%|████▍     | 9364/21001 [17:50<21:35,  8.98it/s, now=None]WARNING:py.warnings:/usr/local/lib/python3.10/dist-packages/moviepy/video/io/ffmpeg_reader.py:123: UserWarning: Warning: in file /content/your_download_path/Girls VS Hair Shorts.mp4, 2764800 bytes wanted but 0 bytes read,at frame 844/845, at time 28.13/28.14 sec. Using the last valid frame instead.\n",
            "  warnings.warn(\"Warning: in file %s, \"%(self.filename)+\n",
            "\n",
            "t:  75%|███████▍  | 15657/21001 [29:11<07:21, 12.10it/s, now=None]WARNING:py.warnings:/usr/local/lib/python3.10/dist-packages/moviepy/video/io/ffmpeg_reader.py:123: UserWarning: Warning: in file /content/your_download_path/That got a little 🥵👀 shorts.mp4, 2764800 bytes wanted but 0 bytes read,at frame 807/808, at time 26.90/26.91 sec. Using the last valid frame instead.\n",
            "  warnings.warn(\"Warning: in file %s, \"%(self.filename)+\n",
            "\n",
            "t:  75%|███████▌  | 15802/21001 [29:25<08:43,  9.93it/s, now=None]WARNING:py.warnings:/usr/local/lib/python3.10/dist-packages/moviepy/video/io/ffmpeg_reader.py:123: UserWarning: Warning: in file /content/your_download_path/Time to be serious! 😯👀🫢  Triple Charm Shorts.mp4, 2764800 bytes wanted but 0 bytes read,at frame 181/182, at time 6.03/6.04 sec. Using the last valid frame instead.\n",
            "  warnings.warn(\"Warning: in file %s, \"%(self.filename)+\n",
            "\n",
            "t:  87%|████████▋ | 18231/21001 [33:42<03:50, 12.04it/s, now=None]WARNING:py.warnings:/usr/local/lib/python3.10/dist-packages/moviepy/video/io/ffmpeg_reader.py:123: UserWarning: Warning: in file /content/your_download_path/respect 😱🤯🔥shorts.mp4, 2764800 bytes wanted but 0 bytes read,at frame 749/750, at time 24.97/24.98 sec. Using the last valid frame instead.\n",
            "  warnings.warn(\"Warning: in file %s, \"%(self.filename)+\n",
            "\n",
            "t:  92%|█████████▏| 19368/21001 [35:21<02:03, 13.21it/s, now=None]WARNING:py.warnings:/usr/local/lib/python3.10/dist-packages/moviepy/video/io/ffmpeg_reader.py:123: UserWarning: Warning: in file /content/your_download_path/the gay test shorts comedy funny.mp4, 2764800 bytes wanted but 0 bytes read,at frame 1421/1422, at time 47.37/47.37 sec. Using the last valid frame instead.\n",
            "  warnings.warn(\"Warning: in file %s, \"%(self.filename)+\n",
            "\n"
          ]
        },
        {
          "output_type": "stream",
          "name": "stdout",
          "text": [
            "Moviepy - Done !\n",
            "Moviepy - video ready /content/Shorts.mp4\n"
          ]
        }
      ]
    },
    {
      "cell_type": "code",
      "source": [
        "\n",
        "import os\n",
        "\n",
        "file_names = input_files\n",
        "\n",
        "# Remove the \"mp4\" extension from each file name\n",
        "modified_file_names = [os.path.splitext(file_name)[0] for file_name in file_names]\n",
        "\n",
        "# Display the modified file names\n",
        "print(modified_file_names)"
      ],
      "metadata": {
        "colab": {
          "base_uri": "https://localhost:8080/"
        },
        "id": "FAiZC8nugqmx",
        "outputId": "7e1685d6-90fb-42b8-a6a8-778bf071d836"
      },
      "execution_count": 31,
      "outputs": [
        {
          "output_type": "stream",
          "name": "stdout",
          "text": [
            "['30 CHRISTMAS MAKEUP LOOKS IN 20 SECONDS! crazy ending shorts', 'Anaconda Snake Chasing Boy video 🐍 Shorts', 'DONT SAY GAY (EXTENDED VERSION) shorts', 'Deutsche Väter vs Ausländer Väter 😳😂  Mohi__07 shorts', 'Dressing up as our significant others 😅✨ BraveGang funny shorts', 'Eating Before And After The Military shorts', 'Ellies Eco Adventure Cleaning Up and Recycling Fun shorts', 'Every guys dream 😂 shorts', 'Funny baby reaction on the beach  shorts', 'Girls VS Hair Shorts', 'Guess my Moms Age! shorts', 'He Didnt Even Hesitate 😳 shorts comedy', 'I RUINED My Drawing of Freddy Fazbear with Posca Markers! shorts', 'Megalodon Washed Ashore 2023 shorts megalodon megalodonshark creaturesofthedeep monster ai', 'New trick 😎🔥 shorts funny', 'Normal People Vs Me (Part 11) Shorts', 'Random Amazon Find!🥤 stanley shorts shortscreator stanleycup stanleytumbler', 'She lost her teeth ( Mom and sister helped and saved her) shorts', 'That got a little 🥵👀 shorts', 'Time to be serious! 😯👀\\U0001fae2  Triple Charm Shorts', 'WALKING ON WATER shorts', 'When u drop something in the seat crack 😂 shorts', 'respect 😱🤯🔥shorts', 'the gay test shorts comedy funny', 'would you eat this shorts', '“Damn” shorts']\n"
          ]
        }
      ]
    },
    {
      "cell_type": "code",
      "source": [
        "modified_file_names"
      ],
      "metadata": {
        "colab": {
          "base_uri": "https://localhost:8080/"
        },
        "id": "J5H7PRV4lBcL",
        "outputId": "eef744c6-5d63-47d4-90ba-38516b7b3286"
      },
      "execution_count": 32,
      "outputs": [
        {
          "output_type": "execute_result",
          "data": {
            "text/plain": [
              "['30 CHRISTMAS MAKEUP LOOKS IN 20 SECONDS! crazy ending shorts',\n",
              " 'Anaconda Snake Chasing Boy video 🐍 Shorts',\n",
              " 'DONT SAY GAY (EXTENDED VERSION) shorts',\n",
              " 'Deutsche Väter vs Ausländer Väter 😳😂  Mohi__07 shorts',\n",
              " 'Dressing up as our significant others 😅✨ BraveGang funny shorts',\n",
              " 'Eating Before And After The Military shorts',\n",
              " 'Ellies Eco Adventure Cleaning Up and Recycling Fun shorts',\n",
              " 'Every guys dream 😂 shorts',\n",
              " 'Funny baby reaction on the beach  shorts',\n",
              " 'Girls VS Hair Shorts',\n",
              " 'Guess my Moms Age! shorts',\n",
              " 'He Didnt Even Hesitate 😳 shorts comedy',\n",
              " 'I RUINED My Drawing of Freddy Fazbear with Posca Markers! shorts',\n",
              " 'Megalodon Washed Ashore 2023 shorts megalodon megalodonshark creaturesofthedeep monster ai',\n",
              " 'New trick 😎🔥 shorts funny',\n",
              " 'Normal People Vs Me (Part 11) Shorts',\n",
              " 'Random Amazon Find!🥤 stanley shorts shortscreator stanleycup stanleytumbler',\n",
              " 'She lost her teeth ( Mom and sister helped and saved her) shorts',\n",
              " 'That got a little 🥵👀 shorts',\n",
              " 'Time to be serious! 😯👀\\U0001fae2  Triple Charm Shorts',\n",
              " 'WALKING ON WATER shorts',\n",
              " 'When u drop something in the seat crack 😂 shorts',\n",
              " 'respect 😱🤯🔥shorts',\n",
              " 'the gay test shorts comedy funny',\n",
              " 'would you eat this shorts',\n",
              " '“Damn” shorts']"
            ]
          },
          "metadata": {},
          "execution_count": 32
        }
      ]
    }
  ]
}