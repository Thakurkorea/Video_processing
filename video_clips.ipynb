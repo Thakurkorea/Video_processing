{
  "nbformat": 4,
  "nbformat_minor": 0,
  "metadata": {
    "colab": {
      "provenance": []
    },
    "kernelspec": {
      "name": "python3",
      "display_name": "Python 3"
    },
    "language_info": {
      "name": "python"
    }
  },
  "cells": [
    {
      "cell_type": "code",
      "execution_count": 1,
      "metadata": {
        "colab": {
          "base_uri": "https://localhost:8080/"
        },
        "id": "G_UuJinCoDW3",
        "outputId": "68fb3cb1-4ca3-4c33-ddce-1af0a46ccabd"
      },
      "outputs": [
        {
          "output_type": "stream",
          "name": "stdout",
          "text": [
            "Mounted at /content/drive\n"
          ]
        }
      ],
      "source": [
        "from google.colab import drive\n",
        "\n",
        "# mount Google Drive to access files\n",
        "drive.mount('/content/drive')"
      ]
    },
    {
      "cell_type": "code",
      "source": [
        "cd /content/drive/MyDrive/Videos_music"
      ],
      "metadata": {
        "colab": {
          "base_uri": "https://localhost:8080/"
        },
        "id": "aMnC2JTdoHfl",
        "outputId": "7bda790d-e3b3-41ef-c9e4-d58530567446"
      },
      "execution_count": 2,
      "outputs": [
        {
          "output_type": "stream",
          "name": "stdout",
          "text": [
            "/content/drive/MyDrive/Videos_music\n"
          ]
        }
      ]
    },
    {
      "cell_type": "code",
      "source": [
        "import os \n",
        "files = os.listdir()\n",
        "mp3_file=[f for f in files if f.endswith('.mp3')]"
      ],
      "metadata": {
        "id": "Wd_XGFpKoTXc"
      },
      "execution_count": null,
      "outputs": []
    },
    {
      "cell_type": "code",
      "source": [
        "f'{mp3_file[0][0:10]}.mp4'"
      ],
      "metadata": {
        "colab": {
          "base_uri": "https://localhost:8080/",
          "height": 36
        },
        "id": "CgV7pTrFpVf7",
        "outputId": "b2247a1d-3b24-4803-d58f-c857f861566a"
      },
      "execution_count": 18,
      "outputs": [
        {
          "output_type": "execute_result",
          "data": {
            "text/plain": [
              "'Sankhadhun.mp4'"
            ],
            "application/vnd.google.colaboratory.intrinsic+json": {
              "type": "string"
            }
          },
          "metadata": {},
          "execution_count": 18
        }
      ]
    },
    {
      "cell_type": "code",
      "source": [
        "audio_file[0]"
      ],
      "metadata": {
        "colab": {
          "base_uri": "https://localhost:8080/",
          "height": 36
        },
        "id": "v2htj8IXrCc9",
        "outputId": "1e380369-fcc3-452f-c65a-31a8e641ed7a"
      },
      "execution_count": 25,
      "outputs": [
        {
          "output_type": "execute_result",
          "data": {
            "text/plain": [
              "'SankhadhunTEMP_MPY_wvf_snd.mp3'"
            ],
            "application/vnd.google.colaboratory.intrinsic+json": {
              "type": "string"
            }
          },
          "metadata": {},
          "execution_count": 25
        }
      ]
    },
    {
      "cell_type": "code",
      "source": [
        "import subprocess\n",
        "\n",
        "audio_file = mp3_file[0]\n",
        "background_image_file = '/content/Sankha_conch_shell.jpg'\n",
        "# output_file = f'{mp3_file[0][0:10]}.mp4'\n",
        "output_file = '/content/Sankhadhun.mp4'\n",
        "\n",
        "# Set the video dimensions and duration\n",
        "video_width = 1280\n",
        "video_height = 720\n",
        "\n",
        "\n",
        "# Run the FFMPEG command to create the video\n",
        "subprocess.call([\n",
        "    'ffmpeg',\n",
        "    '-loop', '1',\n",
        "    '-i', background_image_file,\n",
        "    '-i', audio_file,\n",
        "    '-c:a', 'aac',\n",
        "    '-c:v', 'libx264',\n",
        "    '-preset', 'fast',\n",
        "    '-tune', 'stillimage',\n",
        "    '-b:v', '2000k',\n",
        "    '-pix_fmt', 'yuv420p',\n",
        "    '-vf', f'scale={video_width}:{video_height}',\n",
        "    '-shortest',\n",
        "    output_file\n",
        "])\n"
      ],
      "metadata": {
        "id": "cDFLveJBqpzV"
      },
      "execution_count": null,
      "outputs": []
    },
    {
      "cell_type": "code",
      "source": [
        "output_file"
      ],
      "metadata": {
        "colab": {
          "base_uri": "https://localhost:8080/",
          "height": 36
        },
        "id": "28uHz1Kqrxi9",
        "outputId": "d4e122a0-8611-4a7a-f567-5e24ee2f13da"
      },
      "execution_count": 28,
      "outputs": [
        {
          "output_type": "execute_result",
          "data": {
            "text/plain": [
              "'Sankhadhun.mp4'"
            ],
            "application/vnd.google.colaboratory.intrinsic+json": {
              "type": "string"
            }
          },
          "metadata": {},
          "execution_count": 28
        }
      ]
    }
  ]
}